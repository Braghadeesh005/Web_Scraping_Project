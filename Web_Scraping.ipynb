{
 "cells": [
  {
   "cell_type": "markdown",
   "id": "7bdd4b4f",
   "metadata": {},
   "source": [
    "# WEB SCRAPING PROJECT"
   ]
  },
  {
   "cell_type": "markdown",
   "id": "b7ad73db",
   "metadata": {},
   "source": [
    "Web scraping is the process of extracting data from websites, and Python provides powerful libraries \n",
    "like Beautiful Soup 4 that make it easier to scrape and parse HTML and XML content."
   ]
  },
  {
   "cell_type": "markdown",
   "id": "bea52b3f",
   "metadata": {},
   "source": [
    "Imports"
   ]
  },
  {
   "cell_type": "code",
   "execution_count": 95,
   "id": "1adf63d7",
   "metadata": {},
   "outputs": [],
   "source": [
    "from bs4 import BeautifulSoup\n",
    "import requests\n",
    "import pandas as pd"
   ]
  },
  {
   "cell_type": "markdown",
   "id": "7fe95d35",
   "metadata": {},
   "source": [
    "We are collecting data of computer peripherals from \"MD Computers\" site using Beautiful Soup 4"
   ]
  },
  {
   "cell_type": "markdown",
   "id": "cd258aef",
   "metadata": {},
   "source": [
    "Enter the item which you wanted to collect information."
   ]
  },
  {
   "cell_type": "code",
   "execution_count": 96,
   "id": "9c8eac1e",
   "metadata": {},
   "outputs": [
    {
     "name": "stdout",
     "output_type": "stream",
     "text": [
      "Which item do you want to search? CPU\n"
     ]
    }
   ],
   "source": [
    "search_item = input(\"Which item do you want to search? \")"
   ]
  },
  {
   "cell_type": "markdown",
   "id": "bc32cb7e",
   "metadata": {},
   "source": [
    "From the dynamic url of the website we are formatting the search result to the url."
   ]
  },
  {
   "cell_type": "code",
   "execution_count": 97,
   "id": "a75403e3",
   "metadata": {},
   "outputs": [],
   "source": [
    "url = f\"https://mdcomputers.in/index.php?submit_search=&route=product%2Fsearch&&search={search_item}\""
   ]
  },
  {
   "cell_type": "markdown",
   "id": "f95e9813",
   "metadata": {},
   "source": [
    "Parsing the html content of the page."
   ]
  },
  {
   "cell_type": "code",
   "execution_count": 98,
   "id": "d9aeb466",
   "metadata": {},
   "outputs": [],
   "source": [
    "page_ = requests.get(url).text\n",
    "doc = BeautifulSoup(page_, \"html.parser\")"
   ]
  },
  {
   "cell_type": "markdown",
   "id": "4c6bfd9c",
   "metadata": {},
   "source": [
    "Finding the total number of result pages by filtering the html tags through class name"
   ]
  },
  {
   "cell_type": "code",
   "execution_count": 99,
   "id": "c2e423ec",
   "metadata": {},
   "outputs": [],
   "source": [
    "total_pages_x = doc.find(class_=\"col-sm-6 text-right\")"
   ]
  },
  {
   "cell_type": "code",
   "execution_count": 100,
   "id": "5949d712",
   "metadata": {},
   "outputs": [],
   "source": [
    "total_pages = (str(total_pages_x).split(\"(\")[1]).split(\" \")[0]"
   ]
  },
  {
   "cell_type": "markdown",
   "id": "60aa546e",
   "metadata": {},
   "source": [
    "Total page results obtained for the search"
   ]
  },
  {
   "cell_type": "code",
   "execution_count": 101,
   "id": "4370b299",
   "metadata": {},
   "outputs": [
    {
     "data": {
      "text/plain": [
       "'17'"
      ]
     },
     "execution_count": 101,
     "metadata": {},
     "output_type": "execute_result"
    }
   ],
   "source": [
    "total_pages "
   ]
  },
  {
   "cell_type": "code",
   "execution_count": 106,
   "id": "b426b0a1",
   "metadata": {},
   "outputs": [],
   "source": [
    "total_pages = int(total_pages)"
   ]
  },
  {
   "cell_type": "markdown",
   "id": "8d76987b",
   "metadata": {},
   "source": [
    "We are going to gather the item's name , its link , its price (old and new) below"
   ]
  },
  {
   "cell_type": "markdown",
   "id": "2b120fa9",
   "metadata": {},
   "source": [
    "Creating empty lists for the data"
   ]
  },
  {
   "cell_type": "code",
   "execution_count": 107,
   "id": "073d5708",
   "metadata": {},
   "outputs": [],
   "source": [
    "link = []\n",
    "item_name = []\n",
    "new_price = []\n",
    "old_price = []"
   ]
  },
  {
   "cell_type": "markdown",
   "id": "ab4aad0a",
   "metadata": {},
   "source": [
    "Here is the main code which scrape the information from the html code"
   ]
  },
  {
   "cell_type": "markdown",
   "id": "9618ac31",
   "metadata": {},
   "source": [
    "From this url , we can search for the products we need , through iterating the pages till the total page results we obtained earlier."
   ]
  },
  {
   "cell_type": "code",
   "execution_count": 108,
   "id": "15aa19e0",
   "metadata": {},
   "outputs": [],
   "source": [
    "for page in range(1, total_pages + 1):\n",
    "    url = f\"https://mdcomputers.in/index.php?route=product/search&page={page}&search={search_item}\"\n",
    "    page_ = requests.get(url).text\n",
    "    doc = BeautifulSoup(page_, \"html.parser\")\n",
    "    \n",
    "    items = doc.find_all(class_ = \"right-block right-b\") #Finding the main div tag for each product which holds the data. \n",
    "    \n",
    "    for item in items:\n",
    "        link.append((item.find(\"h4\")).find(\"a\")['href']) #finding the link through href attribute\n",
    "        item_name.append(((item.find(\"h4\")).find(\"a\")).string) #finding the name in the h4 tag\n",
    "        new_price.append(((item.find(\"div\",class_ = \"price\")).find(\"span\",class_ = \"price-new\")).string[1:]) #finding the price\n",
    "        try:\n",
    "            #In some Products, there is no old price so in order to clear the error , finding the old price in this try block\n",
    "            old_price.append(((item.find(\"div\",class_ = \"price\")).find(\"span\",class_ = \"price-old\")).string[1:])    \n",
    "        except:\n",
    "            #For the products having no old price , it is declared as null\n",
    "            old_price.append(None)\n",
    "    "
   ]
  },
  {
   "cell_type": "markdown",
   "id": "3db39bf1",
   "metadata": {},
   "source": [
    "Converting the lists to Dictionary and then to DataFrame."
   ]
  },
  {
   "cell_type": "code",
   "execution_count": 109,
   "id": "29b603eb",
   "metadata": {},
   "outputs": [],
   "source": [
    "dict = {'item_name': item_name , 'link': link , 'new_price': new_price , 'old_price': old_price}"
   ]
  },
  {
   "cell_type": "code",
   "execution_count": 110,
   "id": "ab25907c",
   "metadata": {},
   "outputs": [],
   "source": [
    "df = pd.DataFrame(dict)"
   ]
  },
  {
   "cell_type": "markdown",
   "id": "c4952bb7",
   "metadata": {},
   "source": [
    "Here is our DataFrame with required data"
   ]
  },
  {
   "cell_type": "code",
   "execution_count": 111,
   "id": "ed2bc5c0",
   "metadata": {},
   "outputs": [
    {
     "data": {
      "text/html": [
       "<div>\n",
       "<style scoped>\n",
       "    .dataframe tbody tr th:only-of-type {\n",
       "        vertical-align: middle;\n",
       "    }\n",
       "\n",
       "    .dataframe tbody tr th {\n",
       "        vertical-align: top;\n",
       "    }\n",
       "\n",
       "    .dataframe thead th {\n",
       "        text-align: right;\n",
       "    }\n",
       "</style>\n",
       "<table border=\"1\" class=\"dataframe\">\n",
       "  <thead>\n",
       "    <tr style=\"text-align: right;\">\n",
       "      <th></th>\n",
       "      <th>item_name</th>\n",
       "      <th>link</th>\n",
       "      <th>new_price</th>\n",
       "      <th>old_price</th>\n",
       "    </tr>\n",
       "  </thead>\n",
       "  <tbody>\n",
       "    <tr>\n",
       "      <th>0</th>\n",
       "      <td>PowerPlay IV Gaming Bundle (Asus Dual RTX 3060...</td>\n",
       "      <td>https://mdcomputers.in/powerplay-iv-gaming-bun...</td>\n",
       "      <td>60,499</td>\n",
       "      <td>74,799</td>\n",
       "    </tr>\n",
       "    <tr>\n",
       "      <th>1</th>\n",
       "      <td>PowerPlay VI Gaming Bundle (Asus Dual RTX 3060...</td>\n",
       "      <td>https://mdcomputers.in/asus-powerplay-vi-gamin...</td>\n",
       "      <td>76,599</td>\n",
       "      <td>80,647</td>\n",
       "    </tr>\n",
       "    <tr>\n",
       "      <th>2</th>\n",
       "      <td>EK-Quantum Magnitude - CPU Water Block - For A...</td>\n",
       "      <td>https://mdcomputers.in/ek-quantum-magnatude-am...</td>\n",
       "      <td>23,503</td>\n",
       "      <td>50,399</td>\n",
       "    </tr>\n",
       "    <tr>\n",
       "      <th>3</th>\n",
       "      <td>EK-Quantum Magnitude - CPU Water Block - For A...</td>\n",
       "      <td>https://mdcomputers.in/ek-quantum-magnatude-am...</td>\n",
       "      <td>30,219</td>\n",
       "      <td>64,799</td>\n",
       "    </tr>\n",
       "    <tr>\n",
       "      <th>4</th>\n",
       "      <td>EK-Quantum Magnitude - CPU Water Block - For A...</td>\n",
       "      <td>https://mdcomputers.in/ek-quantum-magnatude-am...</td>\n",
       "      <td>24,623</td>\n",
       "      <td>52,699</td>\n",
       "    </tr>\n",
       "    <tr>\n",
       "      <th>...</th>\n",
       "      <td>...</td>\n",
       "      <td>...</td>\n",
       "      <td>...</td>\n",
       "      <td>...</td>\n",
       "    </tr>\n",
       "    <tr>\n",
       "      <th>398</th>\n",
       "      <td>Thermaltake UX 210 ARGB Lighting 120mm CPU Air...</td>\n",
       "      <td>https://mdcomputers.in/thermaltake-ux-210-argb...</td>\n",
       "      <td>3,650</td>\n",
       "      <td>3,900</td>\n",
       "    </tr>\n",
       "    <tr>\n",
       "      <th>399</th>\n",
       "      <td>Thermaltake Water 3.0 120 ARGB Sync All In One...</td>\n",
       "      <td>https://mdcomputers.in/thermaltake-water-3.0-1...</td>\n",
       "      <td>4,995</td>\n",
       "      <td>7,500</td>\n",
       "    </tr>\n",
       "    <tr>\n",
       "      <th>400</th>\n",
       "      <td>CORSAIR Hydro X Series XC5 RGB PRO CPU Water B...</td>\n",
       "      <td>https://mdcomputers.in/corsair-hydro-x-xc5-rgb...</td>\n",
       "      <td>6,480</td>\n",
       "      <td>7,896</td>\n",
       "    </tr>\n",
       "    <tr>\n",
       "      <th>401</th>\n",
       "      <td>CORSAIR Hydro X Series XC5 RGB PRO CPU Water B...</td>\n",
       "      <td>https://mdcomputers.in/corsair-hydro-x-xc5-rgb...</td>\n",
       "      <td>6,480</td>\n",
       "      <td>7,896</td>\n",
       "    </tr>\n",
       "    <tr>\n",
       "      <th>402</th>\n",
       "      <td>CORSAIR Hydro X Series XC7 RGB PRO CPU Water B...</td>\n",
       "      <td>https://mdcomputers.in/corsair-hydro-x-xc7-rgb...</td>\n",
       "      <td>8,244</td>\n",
       "      <td>10,131</td>\n",
       "    </tr>\n",
       "  </tbody>\n",
       "</table>\n",
       "<p>403 rows × 4 columns</p>\n",
       "</div>"
      ],
      "text/plain": [
       "                                             item_name  \\\n",
       "0    PowerPlay IV Gaming Bundle (Asus Dual RTX 3060...   \n",
       "1    PowerPlay VI Gaming Bundle (Asus Dual RTX 3060...   \n",
       "2    EK-Quantum Magnitude - CPU Water Block - For A...   \n",
       "3    EK-Quantum Magnitude - CPU Water Block - For A...   \n",
       "4    EK-Quantum Magnitude - CPU Water Block - For A...   \n",
       "..                                                 ...   \n",
       "398  Thermaltake UX 210 ARGB Lighting 120mm CPU Air...   \n",
       "399  Thermaltake Water 3.0 120 ARGB Sync All In One...   \n",
       "400  CORSAIR Hydro X Series XC5 RGB PRO CPU Water B...   \n",
       "401  CORSAIR Hydro X Series XC5 RGB PRO CPU Water B...   \n",
       "402  CORSAIR Hydro X Series XC7 RGB PRO CPU Water B...   \n",
       "\n",
       "                                                  link new_price old_price  \n",
       "0    https://mdcomputers.in/powerplay-iv-gaming-bun...   60,499    74,799   \n",
       "1    https://mdcomputers.in/asus-powerplay-vi-gamin...   76,599    80,647   \n",
       "2    https://mdcomputers.in/ek-quantum-magnatude-am...   23,503    50,399   \n",
       "3    https://mdcomputers.in/ek-quantum-magnatude-am...   30,219    64,799   \n",
       "4    https://mdcomputers.in/ek-quantum-magnatude-am...   24,623    52,699   \n",
       "..                                                 ...       ...       ...  \n",
       "398  https://mdcomputers.in/thermaltake-ux-210-argb...    3,650     3,900   \n",
       "399  https://mdcomputers.in/thermaltake-water-3.0-1...    4,995     7,500   \n",
       "400  https://mdcomputers.in/corsair-hydro-x-xc5-rgb...    6,480     7,896   \n",
       "401  https://mdcomputers.in/corsair-hydro-x-xc5-rgb...    6,480     7,896   \n",
       "402  https://mdcomputers.in/corsair-hydro-x-xc7-rgb...    8,244    10,131   \n",
       "\n",
       "[403 rows x 4 columns]"
      ]
     },
     "execution_count": 111,
     "metadata": {},
     "output_type": "execute_result"
    }
   ],
   "source": [
    "df"
   ]
  },
  {
   "cell_type": "markdown",
   "id": "cab3d08f",
   "metadata": {},
   "source": [
    "Converting the Dataframe to excel document with file name as the item we searched "
   ]
  },
  {
   "cell_type": "code",
   "execution_count": 112,
   "id": "b69ef4cd",
   "metadata": {},
   "outputs": [],
   "source": [
    "df.to_excel(f'{search_item}_list_mdcomputers.xlsx')"
   ]
  },
  {
   "cell_type": "markdown",
   "id": "bfcf2dce",
   "metadata": {},
   "source": [
    "Finally we scraped the data from website(MD Computers) successfully through BeautifulSoup4."
   ]
  }
 ],
 "metadata": {
  "kernelspec": {
   "display_name": "Python 3 (ipykernel)",
   "language": "python",
   "name": "python3"
  },
  "language_info": {
   "codemirror_mode": {
    "name": "ipython",
    "version": 3
   },
   "file_extension": ".py",
   "mimetype": "text/x-python",
   "name": "python",
   "nbconvert_exporter": "python",
   "pygments_lexer": "ipython3",
   "version": "3.9.13"
  }
 },
 "nbformat": 4,
 "nbformat_minor": 5
}
