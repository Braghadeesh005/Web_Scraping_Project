{
 "cells": [
  {
   "cell_type": "code",
   "execution_count": 95,
   "id": "71fc21f3",
   "metadata": {},
   "outputs": [],
   "source": [
    "from bs4 import BeautifulSoup\n",
    "import requests\n",
    "import pandas as pd"
   ]
  },
  {
   "cell_type": "code",
   "execution_count": 96,
   "id": "d060e844",
   "metadata": {},
   "outputs": [
    {
     "name": "stdout",
     "output_type": "stream",
     "text": [
      "Which item do you want to search? CPU\n"
     ]
    }
   ],
   "source": [
    "search_item = input(\"Which item do you want to search? \")"
   ]
  },
  {
   "cell_type": "code",
   "execution_count": 97,
   "id": "80106872",
   "metadata": {},
   "outputs": [],
   "source": [
    "url = f\"https://mdcomputers.in/index.php?submit_search=&route=product%2Fsearch&&search={search_item}\""
   ]
  },
  {
   "cell_type": "code",
   "execution_count": 98,
   "id": "3f2b0541",
   "metadata": {},
   "outputs": [],
   "source": [
    "page_ = requests.get(url).text\n",
    "doc = BeautifulSoup(page_, \"html.parser\")"
   ]
  },
  {
   "cell_type": "code",
   "execution_count": 99,
   "id": "1151b259",
   "metadata": {},
   "outputs": [],
   "source": [
    "total_pages_x = doc.find(class_=\"col-sm-6 text-right\")"
   ]
  },
  {
   "cell_type": "code",
   "execution_count": 100,
   "id": "96a8a43f",
   "metadata": {},
   "outputs": [],
   "source": [
    "total_pages = (str(total_pages_x).split(\"(\")[1]).split(\" \")[0]"
   ]
  },
  {
   "cell_type": "code",
   "execution_count": 101,
   "id": "7e32b151",
   "metadata": {},
   "outputs": [
    {
     "data": {
      "text/plain": [
       "'17'"
      ]
     },
     "execution_count": 101,
     "metadata": {},
     "output_type": "execute_result"
    }
   ],
   "source": [
    "total_pages "
   ]
  },
  {
   "cell_type": "code",
   "execution_count": 106,
   "id": "79db37b5",
   "metadata": {},
   "outputs": [],
   "source": [
    "total_pages = int(total_pages)"
   ]
  },
  {
   "cell_type": "code",
   "execution_count": 107,
   "id": "43ad23e6",
   "metadata": {},
   "outputs": [],
   "source": [
    "link = []\n",
    "item_name = []\n",
    "new_price = []\n",
    "old_price = []"
   ]
  },
  {
   "cell_type": "code",
   "execution_count": 108,
   "id": "e255a66d",
   "metadata": {},
   "outputs": [],
   "source": [
    "for page in range(1, total_pages + 1):\n",
    "    url = f\"https://mdcomputers.in/index.php?route=product/search&page={page}&search={search_item}\"\n",
    "    page_ = requests.get(url).text\n",
    "    doc = BeautifulSoup(page_, \"html.parser\")\n",
    "    \n",
    "    items = doc.find_all(class_ = \"right-block right-b\")\n",
    "    \n",
    "    for item in items:\n",
    "        link.append((item.find(\"h4\")).find(\"a\")['href'])\n",
    "        item_name.append(((item.find(\"h4\")).find(\"a\")).string)\n",
    "        new_price.append(((item.find(\"div\",class_ = \"price\")).find(\"span\",class_ = \"price-new\")).string[1:])\n",
    "        try:\n",
    "            old_price.append(((item.find(\"div\",class_ = \"price\")).find(\"span\",class_ = \"price-old\")).string[1:])    \n",
    "        except:\n",
    "            old_price.append(None)\n",
    "    "
   ]
  },
  {
   "cell_type": "code",
   "execution_count": 109,
   "id": "a27b9cbc",
   "metadata": {},
   "outputs": [],
   "source": [
    "dict = {'item_name': item_name , 'link': link , 'new_price': new_price , 'old_price': old_price}"
   ]
  },
  {
   "cell_type": "code",
   "execution_count": 110,
   "id": "b760d45f",
   "metadata": {},
   "outputs": [],
   "source": [
    "df = pd.DataFrame(dict)"
   ]
  },
  {
   "cell_type": "code",
   "execution_count": 111,
   "id": "7943fd19",
   "metadata": {},
   "outputs": [
    {
     "data": {
      "text/html": [
       "<div>\n",
       "<style scoped>\n",
       "    .dataframe tbody tr th:only-of-type {\n",
       "        vertical-align: middle;\n",
       "    }\n",
       "\n",
       "    .dataframe tbody tr th {\n",
       "        vertical-align: top;\n",
       "    }\n",
       "\n",
       "    .dataframe thead th {\n",
       "        text-align: right;\n",
       "    }\n",
       "</style>\n",
       "<table border=\"1\" class=\"dataframe\">\n",
       "  <thead>\n",
       "    <tr style=\"text-align: right;\">\n",
       "      <th></th>\n",
       "      <th>item_name</th>\n",
       "      <th>link</th>\n",
       "      <th>new_price</th>\n",
       "      <th>old_price</th>\n",
       "    </tr>\n",
       "  </thead>\n",
       "  <tbody>\n",
       "    <tr>\n",
       "      <th>0</th>\n",
       "      <td>PowerPlay IV Gaming Bundle (Asus Dual RTX 3060...</td>\n",
       "      <td>https://mdcomputers.in/powerplay-iv-gaming-bun...</td>\n",
       "      <td>60,499</td>\n",
       "      <td>74,799</td>\n",
       "    </tr>\n",
       "    <tr>\n",
       "      <th>1</th>\n",
       "      <td>PowerPlay VI Gaming Bundle (Asus Dual RTX 3060...</td>\n",
       "      <td>https://mdcomputers.in/asus-powerplay-vi-gamin...</td>\n",
       "      <td>76,599</td>\n",
       "      <td>80,647</td>\n",
       "    </tr>\n",
       "    <tr>\n",
       "      <th>2</th>\n",
       "      <td>EK-Quantum Magnitude - CPU Water Block - For A...</td>\n",
       "      <td>https://mdcomputers.in/ek-quantum-magnatude-am...</td>\n",
       "      <td>23,503</td>\n",
       "      <td>50,399</td>\n",
       "    </tr>\n",
       "    <tr>\n",
       "      <th>3</th>\n",
       "      <td>EK-Quantum Magnitude - CPU Water Block - For A...</td>\n",
       "      <td>https://mdcomputers.in/ek-quantum-magnatude-am...</td>\n",
       "      <td>30,219</td>\n",
       "      <td>64,799</td>\n",
       "    </tr>\n",
       "    <tr>\n",
       "      <th>4</th>\n",
       "      <td>EK-Quantum Magnitude - CPU Water Block - For A...</td>\n",
       "      <td>https://mdcomputers.in/ek-quantum-magnatude-am...</td>\n",
       "      <td>24,623</td>\n",
       "      <td>52,699</td>\n",
       "    </tr>\n",
       "    <tr>\n",
       "      <th>...</th>\n",
       "      <td>...</td>\n",
       "      <td>...</td>\n",
       "      <td>...</td>\n",
       "      <td>...</td>\n",
       "    </tr>\n",
       "    <tr>\n",
       "      <th>398</th>\n",
       "      <td>Thermaltake UX 210 ARGB Lighting 120mm CPU Air...</td>\n",
       "      <td>https://mdcomputers.in/thermaltake-ux-210-argb...</td>\n",
       "      <td>3,650</td>\n",
       "      <td>3,900</td>\n",
       "    </tr>\n",
       "    <tr>\n",
       "      <th>399</th>\n",
       "      <td>Thermaltake Water 3.0 120 ARGB Sync All In One...</td>\n",
       "      <td>https://mdcomputers.in/thermaltake-water-3.0-1...</td>\n",
       "      <td>4,995</td>\n",
       "      <td>7,500</td>\n",
       "    </tr>\n",
       "    <tr>\n",
       "      <th>400</th>\n",
       "      <td>CORSAIR Hydro X Series XC5 RGB PRO CPU Water B...</td>\n",
       "      <td>https://mdcomputers.in/corsair-hydro-x-xc5-rgb...</td>\n",
       "      <td>6,480</td>\n",
       "      <td>7,896</td>\n",
       "    </tr>\n",
       "    <tr>\n",
       "      <th>401</th>\n",
       "      <td>CORSAIR Hydro X Series XC5 RGB PRO CPU Water B...</td>\n",
       "      <td>https://mdcomputers.in/corsair-hydro-x-xc5-rgb...</td>\n",
       "      <td>6,480</td>\n",
       "      <td>7,896</td>\n",
       "    </tr>\n",
       "    <tr>\n",
       "      <th>402</th>\n",
       "      <td>CORSAIR Hydro X Series XC7 RGB PRO CPU Water B...</td>\n",
       "      <td>https://mdcomputers.in/corsair-hydro-x-xc7-rgb...</td>\n",
       "      <td>8,244</td>\n",
       "      <td>10,131</td>\n",
       "    </tr>\n",
       "  </tbody>\n",
       "</table>\n",
       "<p>403 rows × 4 columns</p>\n",
       "</div>"
      ],
      "text/plain": [
       "                                             item_name  \\\n",
       "0    PowerPlay IV Gaming Bundle (Asus Dual RTX 3060...   \n",
       "1    PowerPlay VI Gaming Bundle (Asus Dual RTX 3060...   \n",
       "2    EK-Quantum Magnitude - CPU Water Block - For A...   \n",
       "3    EK-Quantum Magnitude - CPU Water Block - For A...   \n",
       "4    EK-Quantum Magnitude - CPU Water Block - For A...   \n",
       "..                                                 ...   \n",
       "398  Thermaltake UX 210 ARGB Lighting 120mm CPU Air...   \n",
       "399  Thermaltake Water 3.0 120 ARGB Sync All In One...   \n",
       "400  CORSAIR Hydro X Series XC5 RGB PRO CPU Water B...   \n",
       "401  CORSAIR Hydro X Series XC5 RGB PRO CPU Water B...   \n",
       "402  CORSAIR Hydro X Series XC7 RGB PRO CPU Water B...   \n",
       "\n",
       "                                                  link new_price old_price  \n",
       "0    https://mdcomputers.in/powerplay-iv-gaming-bun...   60,499    74,799   \n",
       "1    https://mdcomputers.in/asus-powerplay-vi-gamin...   76,599    80,647   \n",
       "2    https://mdcomputers.in/ek-quantum-magnatude-am...   23,503    50,399   \n",
       "3    https://mdcomputers.in/ek-quantum-magnatude-am...   30,219    64,799   \n",
       "4    https://mdcomputers.in/ek-quantum-magnatude-am...   24,623    52,699   \n",
       "..                                                 ...       ...       ...  \n",
       "398  https://mdcomputers.in/thermaltake-ux-210-argb...    3,650     3,900   \n",
       "399  https://mdcomputers.in/thermaltake-water-3.0-1...    4,995     7,500   \n",
       "400  https://mdcomputers.in/corsair-hydro-x-xc5-rgb...    6,480     7,896   \n",
       "401  https://mdcomputers.in/corsair-hydro-x-xc5-rgb...    6,480     7,896   \n",
       "402  https://mdcomputers.in/corsair-hydro-x-xc7-rgb...    8,244    10,131   \n",
       "\n",
       "[403 rows x 4 columns]"
      ]
     },
     "execution_count": 111,
     "metadata": {},
     "output_type": "execute_result"
    }
   ],
   "source": [
    "df"
   ]
  },
  {
   "cell_type": "code",
   "execution_count": 112,
   "id": "8c3069d3",
   "metadata": {},
   "outputs": [],
   "source": [
    "df.to_excel(f'{search_item}_list_mdcomputers.xlsx')"
   ]
  }
 ],
 "metadata": {
  "kernelspec": {
   "display_name": "Python 3 (ipykernel)",
   "language": "python",
   "name": "python3"
  },
  "language_info": {
   "codemirror_mode": {
    "name": "ipython",
    "version": 3
   },
   "file_extension": ".py",
   "mimetype": "text/x-python",
   "name": "python",
   "nbconvert_exporter": "python",
   "pygments_lexer": "ipython3",
   "version": "3.9.13"
  }
 },
 "nbformat": 4,
 "nbformat_minor": 5
}
